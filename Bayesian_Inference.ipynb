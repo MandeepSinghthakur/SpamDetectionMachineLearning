{
 "cells": [
  {
   "cell_type": "heading",
   "metadata": {},
   "level": 6,
   "source": [
    "Our Misssion\n"
   ]
  },
  {
   "cell_type": "markdown",
   "metadata": {},
   "source": [
    "Spam Detection is one of the major applications in machine learning in the interwebs today. Pretty much all of the major email service providers have spam detection built in and automatically classify such mail as 'junk'.\n",
    "\n",
    "In this mission we will be using the  Naive Bayes Algorithm to create a model that classify dataset SMS messages as spam or not spam, based on the training wegive to the model.It is important to have some level of intuition as to what a spammy text message might look like. Usually they have the words like 'free','win', 'winner', 'cash', 'prize' and the like in them as these texts are designed to catch your eye and in some  sense temp you to open them. Also, spam messages tend ot have words written in all capitals and also tend to use a lot of exclamation marks.To the receipient, it is usually pretty straightforward to identify a spam text and our objective here is to train a model to that for us!\n",
    "\n",
    "Being able to identify a spam message is a binary classification problem as messages are classified as 'Spam' or 'Not Spam' and nothing else.\n",
    "Also, this is supervised learning problem, as we will be feeding a labelled dataset into the model, that it can learn from, to make future predictions."
   ]
  }
 ],
 "metadata": {},
 "nbformat": 4,
 "nbformat_minor": 0
}
